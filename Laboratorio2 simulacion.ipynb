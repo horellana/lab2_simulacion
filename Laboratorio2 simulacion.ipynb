{
 "cells": [
  {
   "cell_type": "code",
   "execution_count": 1,
   "metadata": {
    "hideCode": true,
    "hidePrompt": true
   },
   "outputs": [],
   "source": [
    "%matplotlib inline "
   ]
  },
  {
   "cell_type": "markdown",
   "metadata": {},
   "source": [
    "# Numero PI\n",
    "\n",
    "PI es la relacion entre la longitud y diametro de una circunferencia.\n",
    "Su numero a sido aproximado a traves de la historia, y es una de las constantes mas utilizadas, junto con el numero e.\n",
    "\n",
    "Arquimides lo calculo con la aproximacion\n",
    "\n",
    "$3 + \\dfrac{10}{71} < pi < 3 + \\dfrac{1}{7}$\n",
    "\n",
    "En el antiguo Egipto se aproximaba el valor de pi, con la idea de que \n",
    "el area de un circulo es similar a la de un cuadrado que su lado es igual a  $\\dfrac{8}{9}$  del diametro del circulo.\n",
    "\n",
    "En Mesopotamia (1900 a. C.) aproximaban pi con  $pi = 3 + \\dfrac{1}{8}$\n",
    "\n",
    "En el siglo II Claudio Ptolomeo aproximo pi con $pi = \\dfrac{377}{120}$\n",
    "\n",
    "## Epoca moderna\n",
    "Actualmente mediante el uso de computadores es posible calcular con mucha mas precision el valor de pi. El descubrimiento de estas cifras se acelero junto con el desarrollo de la computacion. Desde 1949 donde se obtuvieron $2037$ cifras, al 2011 donde se llego a calcular $10.000.000.000.000$ cifras de pi.\n",
    "\n",
    "## Caracteristica de PI\n",
    "1. PI es la razon entre la longitud de una circunferencia y su diametro\n",
    "2. PI es el area de un circulo de radio con longitud 1"
   ]
  },
  {
   "cell_type": "markdown",
   "metadata": {},
   "source": [
    "### Estimar pi con el metodo de montecarlo\n",
    "\n",
    "Este metodo consiste en tener un circulo y un cuadrado cuyo centro se encuentra en el mismo punto, \n",
    "osea que el circulo esta inscrito dentro del cuadrado.\n",
    "El largo de los lados del cuadrado y el radio del circulo siguen la siguiente proporcion:\n",
    "\n",
    "Luego se comienzan a generar puntos aleatorios y se verifica si estos puntos se encuentran o no dentro del\n",
    "circulo. A partir del numero de puntos dentro del circulo (M), el numero total de puntos generados (N) y PI, se \n",
    "tiene la siguiente igualdad:\n",
    "\n",
    "\n",
    "\n",
    "$\\dfrac{N}{M} = \\dfrac{AreaCuadrado}{AreaCirculo} = \\dfrac{(r*2)^2}{pi * r^ 2} = \\dfrac{4}{pi}$\n",
    "\n",
    "A partir de esta igualdad se obtiene π\n",
    "\n",
    "$pi = 4 * \\dfrac{M}{N}$\n",
    "\n",
    "\n",
    "$M = numero de puntos dentro del circulo$\n",
    "$N = numero total de puntos generados$"
   ]
  },
  {
   "cell_type": "markdown",
   "metadata": {},
   "source": [
    "#### Codigo simulacion"
   ]
  },
  {
   "cell_type": "code",
   "execution_count": 2,
   "metadata": {},
   "outputs": [],
   "source": [
    "import matplotlib.pyplot as plt\n",
    "import random\n",
    "import math"
   ]
  },
  {
   "cell_type": "code",
   "execution_count": 3,
   "metadata": {},
   "outputs": [],
   "source": [
    "radio_circulo = 1\n",
    "lado_cuadrado = 2 * radio_circulo"
   ]
  },
  {
   "cell_type": "code",
   "execution_count": 30,
   "metadata": {},
   "outputs": [],
   "source": [
    "def punto_dentro_circulo(x, y, centro_circulo):\n",
    "    return x**2+y**2 <= centro_circulo"
   ]
  },
  {
   "cell_type": "code",
   "execution_count": 31,
   "metadata": {},
   "outputs": [],
   "source": [
    "def estimar_pi(n):\n",
    "    puntos_dentro_circulo = 0\n",
    "\n",
    "    for i in range(n):\n",
    "        x = random.randrange(0, lado_cuadrado)\n",
    "        y = random.randrange(0, lado_cuadrado)\n",
    "    \n",
    "        if punto_dentro_circulo(x, y, radio_circulo):\n",
    "            puntos_dentro_circulo += 1\n",
    "        \n",
    "    return round(4 * puntos_dentro_circulo / n, 3)"
   ]
  },
  {
   "cell_type": "code",
   "execution_count": 32,
   "metadata": {},
   "outputs": [],
   "source": [
    "n = 5 * (10 ** 3)"
   ]
  },
  {
   "cell_type": "code",
   "execution_count": 33,
   "metadata": {},
   "outputs": [],
   "source": [
    "estimaciones = [estimar_pi(n) for n in range(1, n)]"
   ]
  },
  {
   "cell_type": "markdown",
   "metadata": {},
   "source": [
    "#### 10 Mejores estimaciones"
   ]
  },
  {
   "cell_type": "code",
   "execution_count": 34,
   "metadata": {},
   "outputs": [
    {
     "name": "stdout",
     "output_type": "stream",
     "text": [
      "0 : 0.984\n",
      "1 : 1.042\n",
      "2 : 1.012\n",
      "3 : 0.975\n",
      "4 : 0.967\n",
      "5 : 1.004\n",
      "6 : 0.991\n",
      "7 : 1.024\n",
      "8 : 0.967\n"
     ]
    }
   ],
   "source": [
    "for i, e in enumerate(estimaciones[-9:]):\n",
    "    print(f\"{i} : {e}\")"
   ]
  },
  {
   "cell_type": "markdown",
   "metadata": {},
   "source": [
    "#### Grafico estimaciones\n",
    "\n",
    "En el primer grafico se puede observar que mientras mayor es el numero de puntos que se genera,\n",
    "menor es el error al momento de estimar $pi$"
   ]
  },
  {
   "cell_type": "code",
   "execution_count": 35,
   "metadata": {
    "hideCode": true,
    "hideOutput": false,
    "hidePrompt": true
   },
   "outputs": [
    {
     "name": "stdout",
     "output_type": "stream",
     "text": [
      "\n"
     ]
    },
    {
     "data": {
      "image/png": "[encoded data removed]",
      "text/plain": [
       "<Figure size 432x288 with 1 Axes>"
      ]
     },
     "metadata": {},
     "output_type": "display_data"
    }
   ],
   "source": [
    "fig = plt.figure()\n",
    "plt.plot(list(range(1, n)), estimaciones)\n",
    "plt.xlabel(\"Numero de puntos aleatorios\")\n",
    "plt.ylabel(\"Valor estimado pi\")\n",
    "print()"
   ]
  },
  {
   "cell_type": "markdown",
   "metadata": {
    "hideCode": false,
    "hidePrompt": false
   },
   "source": [
    "En el segundo grafico se muestran en verde los puntos generados dentro del circulo y en \n",
    "rojo los puntos fuera del circulo."
   ]
  },
  {
   "cell_type": "code",
   "execution_count": 36,
   "metadata": {
    "hideCode": true,
    "hidePrompt": true
   },
   "outputs": [
    {
     "name": "stdout",
     "output_type": "stream",
     "text": [
      "Dentro del circulo 3907\n",
      "Fuera del circulo 1093\n",
      "\n"
     ]
    },
    {
     "data": {
      "image/png": "[encoded data removed]",
      "text/plain": [
       "<Figure size 432x288 with 1 Axes>"
      ]
     },
     "metadata": {},
     "output_type": "display_data"
    }
   ],
   "source": [
    "x_inside = []\n",
    "y_inside = []\n",
    "x_outside = []\n",
    "y_outside = []\n",
    "inside = 0\n",
    "\n",
    "for _ in range(n):\n",
    "    x = random.random()\n",
    "    y = random.random()\n",
    "    if punto_dentro_circulo(x, y, radio_circulo):\n",
    "        inside += 1\n",
    "        x_inside.append(x)\n",
    "        y_inside.append(y)\n",
    "    else:\n",
    "        x_outside.append(x)\n",
    "        y_outside.append(y)\n",
    "\n",
    "print(f\"Dentro del circulo {inside}\")\n",
    "print(f\"Fuera del circulo {n - inside}\")\n",
    "        \n",
    "fig, ax = plt.subplots()\n",
    "ax.set_aspect('equal')\n",
    "ax.scatter(x_inside, y_inside, color='g', marker='s')\n",
    "ax.scatter(x_outside, y_outside, color='r', marker='s')\n",
    "print()"
   ]
  },
  {
   "cell_type": "markdown",
   "metadata": {},
   "source": [
    "### Estimar pi con el metodo de buffon\n",
    "\n",
    "Se tiene en un plano varias lineas, rectas y paralelas, que estan separadas por una distancia $D$.\n",
    "Luego se deja caer sobre el plano una o mas agujas de largo $L <= D$.\n",
    "Cuando se a terminado de dejar caer las agujas, es necesari verificar cuanta cayeron sobre una linea, esto\n",
    "se considerara un acierto $A$.\n",
    "\n",
    "Para estimar el valor de pi se tiene la siguiente igualdad:\n",
    "\n",
    "Si $L = D => pi = \\dfrac{2N}{A}$\n",
    "\n",
    "Si $L < D => pi = \\dfrac{2NL}{AD}$\n",
    "\n",
    "Donde $N$ es el numero total del agujas que se dejaron caer."
   ]
  },
  {
   "cell_type": "markdown",
   "metadata": {},
   "source": [
    "#### Codigo simulacion"
   ]
  },
  {
   "cell_type": "code",
   "execution_count": null,
   "metadata": {},
   "outputs": [],
   "source": []
  }
 ],
 "metadata": {
  "celltoolbar": "Hide code",
  "kernelspec": {
   "display_name": "Python 3",
   "language": "python",
   "name": "python3"
  },
  "language_info": {
   "codemirror_mode": {
    "name": "ipython",
    "version": 3
   },
   "file_extension": ".py",
   "mimetype": "text/x-python",
   "name": "python",
   "nbconvert_exporter": "python",
   "pygments_lexer": "ipython3",
   "version": "3.6.5"
  }
 },
 "nbformat": 4,
 "nbformat_minor": 2
}
